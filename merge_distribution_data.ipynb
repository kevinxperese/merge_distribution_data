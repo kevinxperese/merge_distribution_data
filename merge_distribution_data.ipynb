{
 "cells": [
  {
   "cell_type": "markdown",
   "metadata": {},
   "source": [
    "# Merge Distribution of Household Income data into a single data file"
   ]
  },
  {
   "cell_type": "markdown",
   "metadata": {},
   "source": [
    "## Imports"
   ]
  },
  {
   "cell_type": "code",
   "execution_count": null,
   "metadata": {
    "collapsed": true
   },
   "outputs": [],
   "source": [
    "import pandas as pd\n",
    "import os\n",
    "import re\n",
    "from functools import reduce"
   ]
  },
  {
   "cell_type": "markdown",
   "metadata": {},
   "source": [
    "## Collect list of files from data directory"
   ]
  },
  {
   "cell_type": "code",
   "execution_count": null,
   "metadata": {
    "collapsed": false
   },
   "outputs": [],
   "source": [
    "files = os.listdir('data')\n",
    "files"
   ]
  },
  {
   "cell_type": "code",
   "execution_count": null,
   "metadata": {
    "collapsed": false
   },
   "outputs": [],
   "source": [
    "df_list = []\n",
    "for file in files:\n",
    "    if not re.search('minimum|median', file):\n",
    "        df = pd.read_csv('data\\\\' + file)\n",
    "        \n",
    "        # Add \"_rates\" to end of column names for rates tables\n",
    "        if re.search('rates', file):\n",
    "            for column in df.columns:\n",
    "                if column not in ['household_type', 'income_group', 'year']:\n",
    "                    df.rename(columns = {column : column + '_rate'}, inplace=True)\n",
    "        \n",
    "        # Add \"share_of_\" to front of column names for shares tables\n",
    "        if re.search('shares', file):\n",
    "            for column in df.columns:\n",
    "                if column not in ['household_type', 'income_group', 'year']:\n",
    "                    df.rename(columns = {column : 'share_of_' + column}, inplace=True)\n",
    "        \n",
    "        df_list.append(df)"
   ]
  },
  {
   "cell_type": "code",
   "execution_count": null,
   "metadata": {
    "collapsed": false
   },
   "outputs": [],
   "source": [
    "all_data = reduce(lambda df1, df2: pd.merge(df1, df2, on = ['household_type', 'income_group', 'year']), df_list)"
   ]
  },
  {
   "cell_type": "code",
   "execution_count": null,
   "metadata": {
    "collapsed": false
   },
   "outputs": [],
   "source": [
    "all_data.head()"
   ]
  },
  {
   "cell_type": "code",
   "execution_count": null,
   "metadata": {
    "collapsed": false
   },
   "outputs": [],
   "source": [
    "all_data.columns"
   ]
  },
  {
   "cell_type": "code",
   "execution_count": null,
   "metadata": {
    "collapsed": false
   },
   "outputs": [],
   "source": [
    "# Clean up duplicate columns\n",
    "for column in all_data.columns:\n",
    "    if column.endswith('_x'):\n",
    "        all_data.rename(columns={column : column[0:-2]}, inplace=True)\n",
    "    if column.endswith('_y'):\n",
    "        all_data.drop(column, axis=1, inplace=True)"
   ]
  },
  {
   "cell_type": "code",
   "execution_count": null,
   "metadata": {
    "collapsed": false
   },
   "outputs": [],
   "source": [
    "print (\"all_data now has \", len(all_data.columns), \"columns\")\n",
    "print (all_data.columns)"
   ]
  },
  {
   "cell_type": "markdown",
   "metadata": {},
   "source": [
    "## Merge in medians\n",
    "Only merging on `['household_type'] == 'all_households'` and `['income_group'] == 'all_quintiles'`"
   ]
  },
  {
   "cell_type": "code",
   "execution_count": null,
   "metadata": {
    "collapsed": false
   },
   "outputs": [],
   "source": [
    "medians = pd.read_csv('data\\\\table_04_median_household_income_1979_2014.csv')\n",
    "medians.head()"
   ]
  },
  {
   "cell_type": "code",
   "execution_count": null,
   "metadata": {
    "collapsed": false
   },
   "outputs": [],
   "source": [
    "for column in medians.columns:\n",
    "    if not column == 'year':\n",
    "        medians.rename(columns={column : 'median_' + column}, inplace=True)\n",
    "medians.head()"
   ]
  },
  {
   "cell_type": "code",
   "execution_count": null,
   "metadata": {
    "collapsed": true
   },
   "outputs": [],
   "source": [
    "medians['household_type'] = 'all_households'\n",
    "medians['income_group'] = 'all_quintiles'"
   ]
  },
  {
   "cell_type": "code",
   "execution_count": null,
   "metadata": {
    "collapsed": false
   },
   "outputs": [],
   "source": [
    "all_data = pd.merge(all_data, medians, on=['household_type', 'income_group', 'year'], how='left')"
   ]
  },
  {
   "cell_type": "code",
   "execution_count": null,
   "metadata": {
    "collapsed": false
   },
   "outputs": [],
   "source": [
    "print (\"all_data now has \", len(all_data.columns), \"columns\")\n",
    "print (all_data.columns)"
   ]
  },
  {
   "cell_type": "code",
   "execution_count": null,
   "metadata": {
    "collapsed": true
   },
   "outputs": [],
   "source": []
  }
 ],
 "metadata": {
  "kernelspec": {
   "display_name": "Python 3",
   "language": "python",
   "name": "python3"
  },
  "language_info": {
   "codemirror_mode": {
    "name": "ipython",
    "version": 3
   },
   "file_extension": ".py",
   "mimetype": "text/x-python",
   "name": "python",
   "nbconvert_exporter": "python",
   "pygments_lexer": "ipython3",
   "version": "3.5.4"
  }
 },
 "nbformat": 4,
 "nbformat_minor": 0
}
