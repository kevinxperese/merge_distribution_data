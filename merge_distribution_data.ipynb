{
 "cells": [
  {
   "cell_type": "markdown",
   "metadata": {},
   "source": [
    "# Merge Distribution of Household Income data into a single data file"
   ]
  },
  {
   "cell_type": "markdown",
   "metadata": {},
   "source": [
    "## Imports"
   ]
  },
  {
   "cell_type": "code",
   "execution_count": 24,
   "metadata": {
    "collapsed": true
   },
   "outputs": [],
   "source": [
    "import pandas as pd\n",
    "import os\n",
    "import re\n",
    "from functools import reduce"
   ]
  },
  {
   "cell_type": "markdown",
   "metadata": {},
   "source": [
    "## Collect list of files from data directory"
   ]
  },
  {
   "cell_type": "code",
   "execution_count": 25,
   "metadata": {
    "collapsed": false
   },
   "outputs": [
    {
     "data": {
      "text/plain": [
       "['table_01_demographics_1979_2014.csv',\n",
       " 'table_02_income_group_minimums_1979_2014.csv',\n",
       " 'table_03_average_household_income_1979_2014.csv',\n",
       " 'table_04_median_household_income_1979_2014.csv',\n",
       " 'table_05_components_inc_before_transfers_taxes_1979_2014.csv',\n",
       " 'table_06_components_means_tested_transfers_1979_2014.csv',\n",
       " 'table_07_components_federal_taxes_1979_2014.csv',\n",
       " 'table_08_means_tested_transfer_rates_1979_2014.csv',\n",
       " 'table_09_federal_tax_rates_1979_2014.csv',\n",
       " 'table_10_household_income_shares_1979_2014.csv',\n",
       " 'table_11_means_tested_transfer_shares_1979_2014.csv',\n",
       " 'table_12_federal_tax_shares_1979_2014.csv']"
      ]
     },
     "execution_count": 25,
     "metadata": {},
     "output_type": "execute_result"
    }
   ],
   "source": [
    "files = os.listdir('data')\n",
    "files"
   ]
  },
  {
   "cell_type": "code",
   "execution_count": 45,
   "metadata": {
    "collapsed": false
   },
   "outputs": [],
   "source": [
    "df_list = []\n",
    "for file in files:\n",
    "    if not re.search('minimum|median', file):\n",
    "        df = pd.read_csv('data\\\\' + file)\n",
    "        \n",
    "        # Add \"_rates\" to end of column names for rates tables\n",
    "        if re.search('rates', file):\n",
    "            for column in df.columns:\n",
    "                if column not in ['household_type', 'income_group', 'year']:\n",
    "                    df.rename(columns = {column : column + '_rate'}, inplace=True)\n",
    "        \n",
    "        # Add \"share_of_\" to front of column names for shares tables\n",
    "        if re.search('shares', file):\n",
    "            for column in df.columns:\n",
    "                if column not in ['household_type', 'income_group', 'year']:\n",
    "                    df.rename(columns = {column : 'share_of_' + column}, inplace=True)\n",
    "        \n",
    "        df_list.append(df)"
   ]
  },
  {
   "cell_type": "code",
   "execution_count": 49,
   "metadata": {
    "collapsed": false
   },
   "outputs": [],
   "source": [
    "all_data = reduce(lambda df1, df2: pd.merge(df1, df2, on = ['household_type', 'income_group', 'year'], copy=False), df_list)"
   ]
  },
  {
   "cell_type": "code",
   "execution_count": 50,
   "metadata": {
    "collapsed": false
   },
   "outputs": [
    {
     "data": {
      "text/html": [
       "<div>\n",
       "<table border=\"1\" class=\"dataframe\">\n",
       "  <thead>\n",
       "    <tr style=\"text-align: right;\">\n",
       "      <th></th>\n",
       "      <th>household_type</th>\n",
       "      <th>income_group</th>\n",
       "      <th>year</th>\n",
       "      <th>num_households</th>\n",
       "      <th>num_children</th>\n",
       "      <th>num_adults</th>\n",
       "      <th>num_elderly</th>\n",
       "      <th>num_people</th>\n",
       "      <th>market_income_x</th>\n",
       "      <th>social_insurance_benefits_x</th>\n",
       "      <th>...</th>\n",
       "      <th>share_of_all_means_tested_transfers</th>\n",
       "      <th>share_of_medicaid</th>\n",
       "      <th>share_of_snap</th>\n",
       "      <th>share_of_ssi</th>\n",
       "      <th>share_of_other_transfers</th>\n",
       "      <th>share_of_all_federal_taxes</th>\n",
       "      <th>share_of_individual_income_tax</th>\n",
       "      <th>share_of_payroll_taxes</th>\n",
       "      <th>share_of_corporate_income_tax</th>\n",
       "      <th>share_of_excise_taxes</th>\n",
       "    </tr>\n",
       "  </thead>\n",
       "  <tbody>\n",
       "    <tr>\n",
       "      <th>0</th>\n",
       "      <td>all_households</td>\n",
       "      <td>all_quintiles</td>\n",
       "      <td>1979</td>\n",
       "      <td>81.1</td>\n",
       "      <td>64.8</td>\n",
       "      <td>132.9</td>\n",
       "      <td>24.2</td>\n",
       "      <td>221.9</td>\n",
       "      <td>60300.0</td>\n",
       "      <td>4500.0</td>\n",
       "      <td>...</td>\n",
       "      <td>100.0</td>\n",
       "      <td>100.0</td>\n",
       "      <td>100.0</td>\n",
       "      <td>100.0</td>\n",
       "      <td>100.0</td>\n",
       "      <td>100.0</td>\n",
       "      <td>100.0</td>\n",
       "      <td>100.0</td>\n",
       "      <td>100.0</td>\n",
       "      <td>100.0</td>\n",
       "    </tr>\n",
       "    <tr>\n",
       "      <th>1</th>\n",
       "      <td>all_households</td>\n",
       "      <td>all_quintiles</td>\n",
       "      <td>1980</td>\n",
       "      <td>82.6</td>\n",
       "      <td>64.5</td>\n",
       "      <td>135.2</td>\n",
       "      <td>24.7</td>\n",
       "      <td>224.5</td>\n",
       "      <td>58100.0</td>\n",
       "      <td>4900.0</td>\n",
       "      <td>...</td>\n",
       "      <td>100.0</td>\n",
       "      <td>100.0</td>\n",
       "      <td>100.0</td>\n",
       "      <td>100.0</td>\n",
       "      <td>100.0</td>\n",
       "      <td>100.0</td>\n",
       "      <td>100.0</td>\n",
       "      <td>100.0</td>\n",
       "      <td>100.0</td>\n",
       "      <td>100.0</td>\n",
       "    </tr>\n",
       "    <tr>\n",
       "      <th>2</th>\n",
       "      <td>all_households</td>\n",
       "      <td>all_quintiles</td>\n",
       "      <td>1981</td>\n",
       "      <td>83.8</td>\n",
       "      <td>63.9</td>\n",
       "      <td>136.8</td>\n",
       "      <td>25.3</td>\n",
       "      <td>226.0</td>\n",
       "      <td>58100.0</td>\n",
       "      <td>5100.0</td>\n",
       "      <td>...</td>\n",
       "      <td>100.0</td>\n",
       "      <td>100.0</td>\n",
       "      <td>100.0</td>\n",
       "      <td>100.0</td>\n",
       "      <td>100.0</td>\n",
       "      <td>100.0</td>\n",
       "      <td>100.0</td>\n",
       "      <td>100.0</td>\n",
       "      <td>100.0</td>\n",
       "      <td>100.0</td>\n",
       "    </tr>\n",
       "    <tr>\n",
       "      <th>3</th>\n",
       "      <td>all_households</td>\n",
       "      <td>all_quintiles</td>\n",
       "      <td>1982</td>\n",
       "      <td>84.3</td>\n",
       "      <td>63.2</td>\n",
       "      <td>138.5</td>\n",
       "      <td>25.8</td>\n",
       "      <td>227.6</td>\n",
       "      <td>57700.0</td>\n",
       "      <td>5600.0</td>\n",
       "      <td>...</td>\n",
       "      <td>100.0</td>\n",
       "      <td>100.0</td>\n",
       "      <td>100.0</td>\n",
       "      <td>100.0</td>\n",
       "      <td>100.0</td>\n",
       "      <td>100.0</td>\n",
       "      <td>100.0</td>\n",
       "      <td>100.0</td>\n",
       "      <td>100.0</td>\n",
       "      <td>100.0</td>\n",
       "    </tr>\n",
       "    <tr>\n",
       "      <th>4</th>\n",
       "      <td>all_households</td>\n",
       "      <td>all_quintiles</td>\n",
       "      <td>1983</td>\n",
       "      <td>85.8</td>\n",
       "      <td>63.3</td>\n",
       "      <td>140.0</td>\n",
       "      <td>26.1</td>\n",
       "      <td>229.4</td>\n",
       "      <td>58300.0</td>\n",
       "      <td>5700.0</td>\n",
       "      <td>...</td>\n",
       "      <td>100.0</td>\n",
       "      <td>100.0</td>\n",
       "      <td>100.0</td>\n",
       "      <td>100.0</td>\n",
       "      <td>100.0</td>\n",
       "      <td>100.0</td>\n",
       "      <td>100.0</td>\n",
       "      <td>100.0</td>\n",
       "      <td>100.0</td>\n",
       "      <td>100.0</td>\n",
       "    </tr>\n",
       "  </tbody>\n",
       "</table>\n",
       "<p>5 rows × 67 columns</p>\n",
       "</div>"
      ],
      "text/plain": [
       "   household_type   income_group  year  num_households  num_children  \\\n",
       "0  all_households  all_quintiles  1979            81.1          64.8   \n",
       "1  all_households  all_quintiles  1980            82.6          64.5   \n",
       "2  all_households  all_quintiles  1981            83.8          63.9   \n",
       "3  all_households  all_quintiles  1982            84.3          63.2   \n",
       "4  all_households  all_quintiles  1983            85.8          63.3   \n",
       "\n",
       "   num_adults  num_elderly  num_people  market_income_x  \\\n",
       "0       132.9         24.2       221.9          60300.0   \n",
       "1       135.2         24.7       224.5          58100.0   \n",
       "2       136.8         25.3       226.0          58100.0   \n",
       "3       138.5         25.8       227.6          57700.0   \n",
       "4       140.0         26.1       229.4          58300.0   \n",
       "\n",
       "   social_insurance_benefits_x          ...            \\\n",
       "0                       4500.0          ...             \n",
       "1                       4900.0          ...             \n",
       "2                       5100.0          ...             \n",
       "3                       5600.0          ...             \n",
       "4                       5700.0          ...             \n",
       "\n",
       "   share_of_all_means_tested_transfers  share_of_medicaid  share_of_snap  \\\n",
       "0                                100.0              100.0          100.0   \n",
       "1                                100.0              100.0          100.0   \n",
       "2                                100.0              100.0          100.0   \n",
       "3                                100.0              100.0          100.0   \n",
       "4                                100.0              100.0          100.0   \n",
       "\n",
       "   share_of_ssi  share_of_other_transfers  share_of_all_federal_taxes  \\\n",
       "0         100.0                     100.0                       100.0   \n",
       "1         100.0                     100.0                       100.0   \n",
       "2         100.0                     100.0                       100.0   \n",
       "3         100.0                     100.0                       100.0   \n",
       "4         100.0                     100.0                       100.0   \n",
       "\n",
       "   share_of_individual_income_tax  share_of_payroll_taxes  \\\n",
       "0                           100.0                   100.0   \n",
       "1                           100.0                   100.0   \n",
       "2                           100.0                   100.0   \n",
       "3                           100.0                   100.0   \n",
       "4                           100.0                   100.0   \n",
       "\n",
       "   share_of_corporate_income_tax  share_of_excise_taxes  \n",
       "0                          100.0                  100.0  \n",
       "1                          100.0                  100.0  \n",
       "2                          100.0                  100.0  \n",
       "3                          100.0                  100.0  \n",
       "4                          100.0                  100.0  \n",
       "\n",
       "[5 rows x 67 columns]"
      ]
     },
     "execution_count": 50,
     "metadata": {},
     "output_type": "execute_result"
    }
   ],
   "source": [
    "all_data.head()"
   ]
  },
  {
   "cell_type": "code",
   "execution_count": 51,
   "metadata": {
    "collapsed": false
   },
   "outputs": [
    {
     "data": {
      "text/plain": [
       "Index(['household_type', 'income_group', 'year', 'num_households',\n",
       "       'num_children', 'num_adults', 'num_elderly', 'num_people',\n",
       "       'market_income_x', 'social_insurance_benefits_x',\n",
       "       'inc_before_transfers_taxes_x', 'means_tested_transfers_x',\n",
       "       'federal_taxes_x', 'inc_after_transfers_taxes',\n",
       "       'inc_before_transfers_taxes_y', 'market_income_y', 'wages',\n",
       "       'employee_contrib_deferred_comp', 'employer_contrib_health_ins',\n",
       "       'employer_share_payroll_taxes', 'federal_unemployment_tax',\n",
       "       'corp_tax_borne_by_labor', 'business_income', 'capital_gains',\n",
       "       'tax_exempt_interest', 'taxable_interest', 'positive_rental_income',\n",
       "       'dividends', 'corp_tax_borne_by_capital', 'other_market_income',\n",
       "       'social_insurance_benefits_y', 'social_security', 'medicare',\n",
       "       'unemployment_insurance', 'workers_compensation',\n",
       "       'means_tested_transfers_y', 'medicaid', 'snap', 'ssi',\n",
       "       'other_transfers', 'federal_taxes_y', 'individual_income_tax',\n",
       "       'payroll_taxes', 'corporate_income_tax', 'excise_taxes',\n",
       "       'means_tested_transfers_rate', 'medicaid_rate', 'snap_rate', 'ssi_rate',\n",
       "       'other_transfers_rate', 'federal_tax_rate',\n",
       "       'individual_income_tax_rate', 'payroll_tax_rate',\n",
       "       'corporate_income_tax_rate', 'excise_tax_rate',\n",
       "       'share_of_inc_before_transfers_taxes',\n",
       "       'share_of_inc_after_transfers_taxes',\n",
       "       'share_of_all_means_tested_transfers', 'share_of_medicaid',\n",
       "       'share_of_snap', 'share_of_ssi', 'share_of_other_transfers',\n",
       "       'share_of_all_federal_taxes', 'share_of_individual_income_tax',\n",
       "       'share_of_payroll_taxes', 'share_of_corporate_income_tax',\n",
       "       'share_of_excise_taxes'],\n",
       "      dtype='object')"
      ]
     },
     "execution_count": 51,
     "metadata": {},
     "output_type": "execute_result"
    }
   ],
   "source": [
    "all_data.columns"
   ]
  },
  {
   "cell_type": "code",
   "execution_count": 65,
   "metadata": {
    "collapsed": false
   },
   "outputs": [],
   "source": [
    "# Clean up duplicate columns\n",
    "for column in all_data.columns:\n",
    "    if column.endswith('_x'):\n",
    "        all_data.rename(columns = {column : column[0:-2]}, inplace=True)\n",
    "    if column.endswith('_y'):\n",
    "        all_data.drop(column, axis=1, inplace=True)"
   ]
  },
  {
   "cell_type": "code",
   "execution_count": 66,
   "metadata": {
    "collapsed": false
   },
   "outputs": [
    {
     "data": {
      "text/plain": [
       "Index(['household_type', 'income_group', 'year', 'num_households',\n",
       "       'num_children', 'num_adults', 'num_elderly', 'num_people',\n",
       "       'market_income', 'social_insurance_benefits',\n",
       "       'inc_before_transfers_taxes', 'means_tested_transfers', 'federal_taxes',\n",
       "       'inc_after_transfers_taxes', 'wages', 'employee_contrib_deferred_comp',\n",
       "       'employer_contrib_health_ins', 'employer_share_payroll_taxes',\n",
       "       'federal_unemployment_tax', 'corp_tax_borne_by_labor',\n",
       "       'business_income', 'capital_gains', 'tax_exempt_interest',\n",
       "       'taxable_interest', 'positive_rental_income', 'dividends',\n",
       "       'corp_tax_borne_by_capital', 'other_market_income', 'social_security',\n",
       "       'medicare', 'unemployment_insurance', 'workers_compensation',\n",
       "       'medicaid', 'snap', 'ssi', 'other_transfers', 'individual_income_tax',\n",
       "       'payroll_taxes', 'corporate_income_tax', 'excise_taxes',\n",
       "       'means_tested_transfers_rate', 'medicaid_rate', 'snap_rate', 'ssi_rate',\n",
       "       'other_transfers_rate', 'federal_tax_rate',\n",
       "       'individual_income_tax_rate', 'payroll_tax_rate',\n",
       "       'corporate_income_tax_rate', 'excise_tax_rate',\n",
       "       'share_of_inc_before_transfers_taxes',\n",
       "       'share_of_inc_after_transfers_taxes',\n",
       "       'share_of_all_means_tested_transfers', 'share_of_medicaid',\n",
       "       'share_of_snap', 'share_of_ssi', 'share_of_other_transfers',\n",
       "       'share_of_all_federal_taxes', 'share_of_individual_income_tax',\n",
       "       'share_of_payroll_taxes', 'share_of_corporate_income_tax',\n",
       "       'share_of_excise_taxes'],\n",
       "      dtype='object')"
      ]
     },
     "execution_count": 66,
     "metadata": {},
     "output_type": "execute_result"
    }
   ],
   "source": [
    "all_data.columns"
   ]
  }
 ],
 "metadata": {
  "kernelspec": {
   "display_name": "Python 3",
   "language": "python",
   "name": "python3"
  },
  "language_info": {
   "codemirror_mode": {
    "name": "ipython",
    "version": 3
   },
   "file_extension": ".py",
   "mimetype": "text/x-python",
   "name": "python",
   "nbconvert_exporter": "python",
   "pygments_lexer": "ipython3",
   "version": "3.5.4"
  }
 },
 "nbformat": 4,
 "nbformat_minor": 0
}
